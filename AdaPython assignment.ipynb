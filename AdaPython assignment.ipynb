{
 "cells": [
  {
   "cell_type": "markdown",
   "id": "d1c395f5",
   "metadata": {},
   "source": [
    "# Tuples Method\n",
    "\n",
    "#### 1. Count Method\n",
    "\n",
    "Count() - This method returns the number of times a particular item appears in a tuple\n",
    "       \n",
    "\n"
   ]
  },
  {
   "cell_type": "code",
   "execution_count": 6,
   "id": "5e15713c",
   "metadata": {},
   "outputs": [],
   "source": [
    "M1 = (100, 35, \"auto\", \"manual\", \"pistle\",45, 100, 56, 67, 35, \"fifth\", 100, 100, 'auto' \"fifth\" )"
   ]
  },
  {
   "cell_type": "code",
   "execution_count": 7,
   "id": "27bbb2af",
   "metadata": {},
   "outputs": [
    {
     "data": {
      "text/plain": [
       "4"
      ]
     },
     "execution_count": 7,
     "metadata": {},
     "output_type": "execute_result"
    }
   ],
   "source": [
    "M1.count(100)"
   ]
  },
  {
   "cell_type": "markdown",
   "id": "c806bce7",
   "metadata": {},
   "source": [
    "#### 2. Index Method\n",
    "\n",
    "    Index() - This method is used to find first index position of value in a tuple."
   ]
  },
  {
   "cell_type": "code",
   "execution_count": 9,
   "id": "ac651774",
   "metadata": {},
   "outputs": [],
   "source": [
    " M1 = (100, 35, \"auto\", \"manual\", \"pistle\",45, 100, 56, 67, 35, \"fifth\", 100, 100, 'auto' \"fifth\" )\n",
    "    "
   ]
  },
  {
   "cell_type": "code",
   "execution_count": 12,
   "id": "5bca1afd",
   "metadata": {},
   "outputs": [
    {
     "data": {
      "text/plain": [
       "1"
      ]
     },
     "execution_count": 12,
     "metadata": {},
     "output_type": "execute_result"
    }
   ],
   "source": [
    "M1.index(35)"
   ]
  },
  {
   "cell_type": "markdown",
   "id": "6630b956",
   "metadata": {},
   "source": [
    "#### 3. Lens Method\n",
    "\n",
    "    len() method - This method returns number of elements in a tuple.\n",
    "\n",
    "    \n",
    "\n"
   ]
  },
  {
   "cell_type": "code",
   "execution_count": 13,
   "id": "e4d2a8d4",
   "metadata": {},
   "outputs": [],
   "source": [
    " M1 = (100, 35, \"auto\", \"manual\", \"pistle\",45, 100, 56, 67, 35, \"fifth\", 100, 100, 'auto' \"fifth\" )"
   ]
  },
  {
   "cell_type": "code",
   "execution_count": 14,
   "id": "5552407d",
   "metadata": {},
   "outputs": [
    {
     "data": {
      "text/plain": [
       "14"
      ]
     },
     "execution_count": 14,
     "metadata": {},
     "output_type": "execute_result"
    }
   ],
   "source": [
    "len(M1)"
   ]
  },
  {
   "cell_type": "markdown",
   "id": "69e102a0",
   "metadata": {},
   "source": [
    "#### 4. Max Method\n",
    "\n",
    "     max() - This method returns largest element of a tuple. This method works only if the tuple contains all values of same type. "
   ]
  },
  {
   "cell_type": "code",
   "execution_count": 15,
   "id": "3d426226",
   "metadata": {},
   "outputs": [],
   "source": [
    " M11 = (100, 35,45, 100, 56, 67, 35, 100, 100, 120, 70, 890, 467, 10, 67)"
   ]
  },
  {
   "cell_type": "code",
   "execution_count": 17,
   "id": "59374a92",
   "metadata": {},
   "outputs": [
    {
     "data": {
      "text/plain": [
       "890"
      ]
     },
     "execution_count": 17,
     "metadata": {},
     "output_type": "execute_result"
    }
   ],
   "source": [
    "max(M11)"
   ]
  },
  {
   "cell_type": "markdown",
   "id": "5468c515",
   "metadata": {},
   "source": [
    "#### 5. Min Method\n",
    "\n",
    "    min() - This method returns smallest element of a tuple. This method works only if the tuple contains all values of same type."
   ]
  },
  {
   "cell_type": "code",
   "execution_count": 18,
   "id": "75b1c635",
   "metadata": {},
   "outputs": [],
   "source": [
    " M11 = (100, 35,45, 100, 56, 67, 35, 100, 100, 120, 70, 890, 467, 10, 67)"
   ]
  },
  {
   "cell_type": "code",
   "execution_count": 19,
   "id": "fb0c47d4",
   "metadata": {},
   "outputs": [
    {
     "data": {
      "text/plain": [
       "10"
      ]
     },
     "execution_count": 19,
     "metadata": {},
     "output_type": "execute_result"
    }
   ],
   "source": [
    "min(M11)"
   ]
  },
  {
   "cell_type": "code",
   "execution_count": null,
   "id": "bd00500c",
   "metadata": {},
   "outputs": [],
   "source": []
  }
 ],
 "metadata": {
  "kernelspec": {
   "display_name": "Python 3 (ipykernel)",
   "language": "python",
   "name": "python3"
  },
  "language_info": {
   "codemirror_mode": {
    "name": "ipython",
    "version": 3
   },
   "file_extension": ".py",
   "mimetype": "text/x-python",
   "name": "python",
   "nbconvert_exporter": "python",
   "pygments_lexer": "ipython3",
   "version": "3.9.13"
  }
 },
 "nbformat": 4,
 "nbformat_minor": 5
}
